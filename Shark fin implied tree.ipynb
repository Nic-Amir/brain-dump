{
 "cells": [
  {
   "cell_type": "code",
   "execution_count": 1,
   "id": "1611f8db",
   "metadata": {},
   "outputs": [],
   "source": [
    "import numpy as np\n",
    "from scipy.stats import norm\n",
    "import pandas as pd\n",
    "import math\n",
    "from scipy.stats import norm\n",
    "from scipy.interpolate import interp1d"
   ]
  },
  {
   "cell_type": "code",
   "execution_count": 2,
   "id": "0ebaf848",
   "metadata": {},
   "outputs": [],
   "source": [
    "data = pd.read_csv(\"query_result_2023-01-17T03_06_08.296579Z.csv\")\n",
    "a = data.loc[0,\"value\"]"
   ]
  },
  {
   "cell_type": "code",
   "execution_count": 3,
   "id": "9f6db8b1",
   "metadata": {},
   "outputs": [
    {
     "data": {
      "text/plain": [
       "id                                                     1386531\n",
       "timestamp                                 2012-02-21T01:13:44Z\n",
       "category                                   volatility_surfaces\n",
       "name                                                 frxEURUSD\n",
       "value        {\"symbol\":\"frxEURUSD\",\"surfaces\":{\"New York 10...\n",
       "Name: 0, dtype: object"
      ]
     },
     "execution_count": 3,
     "metadata": {},
     "output_type": "execute_result"
    }
   ],
   "source": [
    "data.iloc[0]"
   ]
  },
  {
   "cell_type": "code",
   "execution_count": 4,
   "id": "7fcf5b18",
   "metadata": {},
   "outputs": [
    {
     "data": {
      "text/plain": [
       "{'365': {'atm_spread': 0.002,\n",
       "  'tenor': '1Y',\n",
       "  'smile': {'25': '0.1141', '50': '0.122', '75': '0.1461'}},\n",
       " '90': {'atm_spread': 0.002,\n",
       "  'tenor': '3M',\n",
       "  'smile': {'25': '0.1011', '50': '0.11', '75': '0.1271'}},\n",
       " '120': {'atm_spread': 0.004,\n",
       "  'tenor': '4M',\n",
       "  'smile': {'25': '0.1046', '50': '0.113', '75': '0.1316'}},\n",
       " '21': {'atm_spread': 0.006,\n",
       "  'tenor': '3W',\n",
       "  'smile': {'25': '0.1043', '50': '0.109', '75': '0.1183'}},\n",
       " '7': {'atm_spread': 0.006,\n",
       "  'tenor': '1W',\n",
       "  'smile': {'25': '0.1086', '50': '0.11', '75': '0.1156'}},\n",
       " '14': {'atm_spread': 0.003,\n",
       "  'tenor': '2W',\n",
       "  'smile': {'25': '0.1012', '50': '0.105', '75': '0.1132'}},\n",
       " '60': {'atm_spread': 0.002,\n",
       "  'tenor': '2M',\n",
       "  'smile': {'25': '0.1008', '50': '0.109', '75': '0.1228'}},\n",
       " '1': {'atm_spread': 0.002,\n",
       "  'tenor': 'ON',\n",
       "  'smile': {'25': '0.172', '50': '0.174', '75': '0.181'}},\n",
       " '180': {'atm_spread': 0.002,\n",
       "  'tenor': '6M',\n",
       "  'smile': {'25': '0.1062', '50': '0.115', '75': '0.1362'}},\n",
       " '30': {'atm_spread': 0.002,\n",
       "  'tenor': '1M',\n",
       "  'smile': {'25': '0.102', '50': '0.108', '75': '0.119'}},\n",
       " '270': {'atm_spread': 0.001,\n",
       "  'tenor': '9M',\n",
       "  'smile': {'25': '0.1107', '50': '0.119', '75': '0.1417'}}}"
      ]
     },
     "execution_count": 4,
     "metadata": {},
     "output_type": "execute_result"
    }
   ],
   "source": [
    "import json\n",
    "vol_data = json.loads(a)\n",
    "surface = vol_data[\"surfaces\"][\"New York 10:00\"]\n",
    "surface"
   ]
  },
  {
   "cell_type": "code",
   "execution_count": 1012,
   "id": "e73ea0d8",
   "metadata": {},
   "outputs": [],
   "source": [
    "vol_function = dict()\n",
    "\n",
    "period = list([1,7,14,21,30,60,90,120,180,270,365])\n",
    "for i in period:\n",
    "    Vol = surface[str(i)][\"smile\"]\n",
    "    x = list(map(float, list(Vol.keys())))\n",
    "    y = list(map(float, list(Vol.values())))\n",
    "\n",
    "    vol_function[i] = interp1d(x, y, kind = 'quadratic',fill_value='extrapolate')\n",
    "\n",
    "def linear_interpolate(x,x1,x2,y1,y2):\n",
    "    return y1+(x-x1)*(y2-y1)/(x2-x1)\n",
    "\n",
    "def implied_vol(S0,N,K):\n",
    "    x = N*dt*365  # converting the tenor to days\n",
    "    \n",
    "    if x in period:\n",
    "        ATM_sigma = vol_function[x](50) \n",
    "    elif x < 1:\n",
    "        ATM_sigma = vol_function[1](50)\n",
    "    else:\n",
    "        upper = list(map(lambda i: i> x, period)).index(True) #determine the position of target tenor and given time      \n",
    "        x1 = period[upper-1]\n",
    "        x2 = period[upper]\n",
    "        y1 = vol_function[x1](50)**2 *x1/360 # converting yearly variance to respective time\n",
    "        y2 = vol_function[x2](50)**2 *x2/360\n",
    "        ATM_sigma = np.sqrt(linear_interpolate(x,x1,x2,y1,y2)*360/x)\n",
    "    \n",
    "    d1 = (np.log(S0/K) + N*dt*(r-q+ATM_sigma**2/2))/(ATM_sigma*np.sqrt(N*dt))\n",
    "    deltaness = norm.cdf(d1)*100\n",
    "    \n",
    "    if x in period:\n",
    "        implied_vol = vol_function[x](deltaness)\n",
    "    elif x <1:\n",
    "        implied_vol = vol_function[1](deltaness)\n",
    "    else:\n",
    "        y1 = vol_function[x1](deltaness)**2*x1/360\n",
    "        y2 = vol_function[x2](deltaness)**2*x2/360\n",
    "        implied_vol = np.sqrt(linear_interpolate(x,x1,x2,y1,y2)*360/x)\n",
    "    #return 0.1\n",
    "    return implied_vol\n",
    "    \n",
    "\n",
    "def C(K,N): #BS formula\n",
    "    vol = implied_vol(S0,N,K)\n",
    "    T = N*dt\n",
    "    d1 = (np.log(S0/K) + (r-q+vol**2/2)*T)/(vol*np.sqrt(T))\n",
    "    d2 = d1- vol*np.sqrt(T)\n",
    "    return np.exp(-q*T)*S0*norm.cdf(d1)-np.exp(-r*T)*K*norm.cdf(d2)\n",
    "\n",
    "\n",
    "def P(K,N): #BS formula\n",
    "    vol = implied_vol(S0,N,K)\n",
    "    T = N*dt\n",
    "    d1 = (np.log(S0/K) + (r-q+vol**2/2)*T)/(vol*np.sqrt(T))\n",
    "    d2 = d1- vol*np.sqrt(T)\n",
    "    put = -np.exp(-q*T)*S0*norm.cdf(-d1)+np.exp(-r*T)*K*norm.cdf(-d2)\n",
    "    return put\n",
    "\n",
    "def summation(n,i,si):\n",
    "    if i==n or i==0:\n",
    "        summation = 0\n",
    "    else:\n",
    "        if i >n/2:\n",
    "            summation = np.dot(AD_tree[n-1][i:n],(interest*stock_tree[n-1][i:n] - si))\n",
    "        if i <n/2:\n",
    "            summation = np.dot(AD_tree[n-1][:i],(si-interest*stock_tree[n-1][:i]))\n",
    "    return summation\n",
    "\n",
    "def compute_AD(n,i):\n",
    "    if i==n:\n",
    "        AD_value = discount*AD_tree[n-1,i-1]*prob_tree[n-1,i-1]\n",
    "    elif i==0:\n",
    "        AD_value = discount*AD_tree[n-1,i]*(1-prob_tree[n-1,i])\n",
    "    else:\n",
    "        AD_value = discount*(AD_tree[n-1,i-1]*prob_tree[n-1,i-1]+AD_tree[n-1,i]*(1-prob_tree[n-1,i]))\n",
    "    \n",
    "    return AD_value\n",
    "\n",
    "# reset function \n",
    "def no_arbitrage(SA,n,i):\n",
    "    global count\n",
    "    lower_bound = stock_tree[n-1,i-1]*interest\n",
    "    upper_bound = stock_tree[n-1,i]*interest\n",
    "    if i==n:\n",
    "        if SA<= lower_bound:\n",
    "            SA = stock_tree[n,i-1]*stock_tree[n-1,i-1]/stock_tree[n-1,i-2]   # keep the distance same from previous level\n",
    "            count+=1\n",
    "    elif i==0:\n",
    "        if SA >= upper_bound or SA<=0:\n",
    "            SA = stock_tree[n,i+1]*stock_tree[n-1,i]/stock_tree[n-1,i+1]\n",
    "            count+=1\n",
    "    else:\n",
    "        if SA <= lower_bound or SA >= upper_bound:\n",
    "            if i > n/2:\n",
    "                SA = stock_tree[n,i-1]*stock_tree[n-1,i]/stock_tree[n-1,i-1]\n",
    "                if SA <= lower_bound or SA >= upper_bound:\n",
    "                    SA = np.sqrt(stock_tree[n-1,i]*stock_tree[n-1,i-1])*interest # forward of geomatric mean\n",
    "                count+=1\n",
    "            if i < n/2:\n",
    "                SA = stock_tree[n,i+1]*stock_tree[n-1,i-1]/stock_tree[n-1,i]\n",
    "                if SA <= lower_bound or SA >= upper_bound:\n",
    "                    SA = np.sqrt(stock_tree[n-1,i-1]*stock_tree[n-1,i])*interest\n",
    "                count+=1\n",
    "    return SA\n",
    "        \n",
    "\n",
    "def compute_prob(n,i):\n",
    "    si = stock_tree[n,i]\n",
    "    Fi = interest*si\n",
    "    upper_node = stock_tree[n+1,i+1]\n",
    "    lower_node = stock_tree[n+1,i]\n",
    "    prob = (Fi - lower_node)/(upper_node-lower_node)\n",
    "    return prob"
   ]
  },
  {
   "cell_type": "code",
   "execution_count": 1021,
   "id": "40b63354",
   "metadata": {},
   "outputs": [],
   "source": [
    "# price Euro vanilla option with implied tree\n",
    "def implied_tree_pricing(K,option_type):\n",
    "    if option_type == \"call\":\n",
    "        price = np.dot(np.maximum(stock_tree[-1,:]-K,0),AD_tree[-1,:])\n",
    "    elif option_type == \"put\":\n",
    "        price = np.dot(np.maximum(K-stock_tree[-1,:],0),AD_tree[-1,:])\n",
    "    return price"
   ]
  },
  {
   "cell_type": "code",
   "execution_count": 1022,
   "id": "fae3b402",
   "metadata": {},
   "outputs": [],
   "source": [
    "def implied_tree_barrier_pricer(stock_tree,K,B,N,rebate,optionType):\n",
    "    if optionType == \"upout_call\":\n",
    "        Vn = np.where(stock_tree[N]<B,np.maximum(stock_tree[N]-K,0),rebate)\n",
    "        for n in range(N-1,-1,-1):\n",
    "            Vn1 = Vn.copy()\n",
    "            for i in range(n+1):\n",
    "                if stock_tree[n,i]<B:\n",
    "                    Vn[i] = discount*(prob_tree[n,i]*Vn1[i+1]+(1-prob_tree[n,i])*Vn1[i])\n",
    "                else:\n",
    "                    Vn[i] = rebate*discount**(N-n)\n",
    "        return Vn[0]\n",
    "    elif optionType == \"downout_put\":\n",
    "        Vn = np.where(stock_tree[N]>B,np.maximum(K-stock_tree[N],0),rebate)\n",
    "        for n in range(N-1,-1,-1):\n",
    "            Vn1 = Vn.copy()\n",
    "            for i in range(n+1):\n",
    "                if stock_tree[n,i]>B:\n",
    "                    Vn[i] = discount*(prob_tree[n,i]*Vn1[i+1]+(1-prob_tree[n,i])*Vn1[i])\n",
    "                else:\n",
    "                    Vn[i] = rebate*discount**(N-n)\n",
    "        return Vn[0]\n",
    "    else:\n",
    "        raise Exception(\"not supported option type\")\n",
    "        "
   ]
  },
  {
   "cell_type": "code",
   "execution_count": 1023,
   "id": "428b2948",
   "metadata": {},
   "outputs": [],
   "source": [
    "def BS_barrier_pricer(S0,K,T,r,q,B,vol,rebate,optionType):\n",
    "    r_ = r-q\n",
    "    v = vol*np.sqrt(T)\n",
    "    x1 = (np.log(S0/K)+(r_+0.5*vol**2)*T)/v\n",
    "    x2 = (np.log(S0/B)+(r_+0.5*vol**2)*T)/v\n",
    "    y1 = (np.log(B**2/S0/K)+(r_+0.5*vol**2)*T)/v\n",
    "    y2 = (np.log(B/S0)+(r_+0.5*vol**2)*T)/v\n",
    "    \n",
    "    z1 = (np.log(B/S0)-(r_-0.5*vol**2)*T)/v\n",
    "    z2 = (np.log(B/S0)+(r_-0.5*vol**2)*T)/v\n",
    "    h1 = 0\n",
    "    h2 = 2*(r_-0.5*vol**2)/vol**2\n",
    "    \n",
    "    divi = np.exp(-q*T)\n",
    "    discount = np.exp(-r*T)\n",
    "\n",
    "    \n",
    "    if optionType == \"downout_put\":\n",
    "        CR = rebate*(pow(B/S0,h1)*norm.cdf(z1)+pow(B/S0,h2)*norm.cdf(z2))\n",
    "        put = K*discount*(norm.cdf(-x1+v)-norm.cdf(-x2+v))-\\\n",
    "        S0*divi*(norm.cdf(-x1)-norm.cdf(-x2))-\\\n",
    "        K*discount*pow(B/S0,2*r_/vol**2-1)*(norm.cdf(-y1+v)-norm.cdf(-y2+v))+\\\n",
    "        S0*divi*pow(B/S0,2*r_/vol**2+1)*(norm.cdf(-y1)-norm.cdf(-y2))+CR\n",
    "\n",
    "        return put\n",
    "    \n",
    "    elif optionType == \"upout_call\":\n",
    "        CR = rebate*(pow(B/S0,h1)*norm.cdf(-z1)+pow(B/S0,h2)*norm.cdf(-z2))\n",
    "        call = S0*divi*(norm.cdf(x1)-norm.cdf(x2))- \\\n",
    "        K*discount*(norm.cdf(x1-v)-norm.cdf(x2-v))- \\\n",
    "        S0*divi*pow(B/S0,2*r_/vol**2+1)*(norm.cdf(y1)-norm.cdf(y2))+ \\\n",
    "        K*discount*pow(B/S0,2*r_/vol**2-1)*(norm.cdf(y1-v)-norm.cdf(y2-v)) +CR\n",
    "\n",
    "        return call\n",
    "    \n",
    "    else:\n",
    "        raise Exception(\"option type is not supported\")"
   ]
  },
  {
   "cell_type": "markdown",
   "id": "de257a4e",
   "metadata": {},
   "source": [
    "https://www.bje.uni-bonn.de/download-the-latest-issue-1/volume-1/fei-an-introduction-to-barrier-options (down and out put)\n",
    "https://personal.ntu.edu.sg/nprivault/MA5182/barrier-options.pdf (up and out call)\\"
   ]
  },
  {
   "cell_type": "code",
   "execution_count": 1024,
   "id": "e3c09116",
   "metadata": {},
   "outputs": [
    {
     "name": "stdout",
     "output_type": "stream",
     "text": [
      "5 0.0 2.057907278763254e-14 0.02916624713280025 0.02916624713280085\n",
      "[1.         0.99704547 0.99409967 0.99116257 0.98823415 0.98531438]\n",
      "\n",
      "\n",
      "10 0.03076923076923077 -0.0672470168739114 0.02916624713280025 0.02720490401971216\n",
      "[1.         0.99852164 0.99704547 0.99557148 0.99409967 0.99263003\n",
      " 0.99116257 0.98969728 0.98823415 0.98677318 0.98531438]\n",
      "\n",
      "\n",
      "15 0.1037037037037037 -6.102349329511847e-14 0.02916624713280025 0.02916624713279847\n",
      "[1.         0.99901418 0.99802934 0.99704547 0.99606257 0.99508063\n",
      " 0.99409967 0.99311967 0.99214064 0.99116257 0.99018547 0.98920933\n",
      " 0.98823415 0.98725993 0.98628668 0.98531438]\n",
      "\n",
      "\n",
      "20 0.20869565217391303 -0.0329889359484265 0.02916624713280025 0.028204083674280324\n",
      "[1.         0.99926055 0.99852164 0.99778328 0.99704547 0.9963082\n",
      " 0.99557148 0.9948353  0.99409967 0.99336458 0.99263003 0.99189603\n",
      " 0.99116257 0.99042965 0.98969728 0.98896544 0.98823415 0.9875034\n",
      " 0.98677318 0.98604351 0.98531438]\n",
      "\n",
      "\n",
      "25 0.2714285714285714 3.211762805006235e-14 0.02916624713280025 0.029166247132801186\n",
      "[1.         0.99940839 0.99881714 0.99822623 0.99763568 0.99704547\n",
      " 0.99645561 0.9958661  0.99527694 0.99468813 0.99409967 0.99351155\n",
      " 0.99292379 0.99233637 0.99174929 0.99116257 0.99057619 0.98999016\n",
      " 0.98940448 0.98881914 0.98823415 0.9876495  0.9870652  0.98648125\n",
      " 0.98589764 0.98531438]\n",
      "\n",
      "\n",
      "30 0.4080808080808081 -0.021857996119928995 0.02916624713280025 0.02852873141613861\n",
      "[1.         0.99950697 0.99901418 0.99852164 0.99802934 0.99753728\n",
      " 0.99704547 0.9965539  0.99606257 0.99557148 0.99508063 0.99459003\n",
      " 0.99409967 0.99360955 0.99311967 0.99263003 0.99214064 0.99165148\n",
      " 0.99116257 0.9906739  0.99018547 0.98969728 0.98920933 0.98872162\n",
      " 0.98823415 0.98774692 0.98725993 0.98677318 0.98628668 0.98580041\n",
      " 0.98531438]\n",
      "\n",
      "\n",
      "35 0.48120300751879697 -3.3069261473767896e-14 0.02916624713280025 0.029166247132799285\n",
      "[1.         0.99957739 0.99915496 0.9987327  0.99831063 0.99788873\n",
      " 0.99746701 0.99704547 0.99662411 0.99620292 0.99578192 0.99536109\n",
      " 0.99494044 0.99451996 0.99409967 0.99367955 0.99325961 0.99283985\n",
      " 0.99242026 0.99200085 0.99158162 0.99116257 0.99074369 0.99032499\n",
      " 0.98990647 0.98948813 0.98906996 0.98865196 0.98823415 0.98781651\n",
      " 0.98739905 0.98698176 0.98656465 0.98614772 0.98573096 0.98531438]\n",
      "\n",
      "\n",
      "40 0.35348837209302325 -0.01634382018104098 0.02916624713280025 0.02868955923430596\n",
      "[1.         0.99963021 0.99926055 0.99889103 0.99852164 0.99815239\n",
      " 0.99778328 0.99741431 0.99704547 0.99667677 0.9963082  0.99593977\n",
      " 0.99557148 0.99520332 0.9948353  0.99446742 0.99409967 0.99373205\n",
      " 0.99336458 0.99299724 0.99263003 0.99226296 0.99189603 0.99152923\n",
      " 0.99116257 0.99079604 0.99042965 0.9900634  0.98969728 0.98933129\n",
      " 0.98896544 0.98859973 0.98823415 0.98786871 0.9875034  0.98713822\n",
      " 0.98677318 0.98640828 0.98604351 0.98567888 0.98531438]\n",
      "\n",
      "\n",
      "45 0.3314814814814815 1.28232603844323e-13 0.02916624713280025 0.02916624713280399\n",
      "[1.         0.99967129 0.99934268 0.99901418 0.9986858  0.99835751\n",
      " 0.99802934 0.99770128 0.99737332 0.99704547 0.99671773 0.99639009\n",
      " 0.99606257 0.99573515 0.99540784 0.99508063 0.99475354 0.99442655\n",
      " 0.99409967 0.99377289 0.99344623 0.99311967 0.99279322 0.99246687\n",
      " 0.99214064 0.99181451 0.99148848 0.99116257 0.99083676 0.99051106\n",
      " 0.99018547 0.98985998 0.9895346  0.98920933 0.98888416 0.9885591\n",
      " 0.98823415 0.9879093  0.98758456 0.98725993 0.98693541 0.98661099\n",
      " 0.98628668 0.98596247 0.98563837 0.98531438]\n",
      "\n",
      "\n",
      "50 0.5222641509433962 -0.01305141080117874 0.02916624713280025 0.02878558645994137\n",
      "[1.         0.99970415 0.99940839 0.99911272 0.99881714 0.99852164\n",
      " 0.99822623 0.99793091 0.99763568 0.99734053 0.99704547 0.9967505\n",
      " 0.99645561 0.99616081 0.9958661  0.99557148 0.99527694 0.99498249\n",
      " 0.99468813 0.99439386 0.99409967 0.99380557 0.99351155 0.99321763\n",
      " 0.99292379 0.99263003 0.99233637 0.99204279 0.99174929 0.99145589\n",
      " 0.99116257 0.99086934 0.99057619 0.99028313 0.98999016 0.98969728\n",
      " 0.98940448 0.98911177 0.98881914 0.9885266  0.98823415 0.98794178\n",
      " 0.9876495  0.98735731 0.9870652  0.98677318 0.98648125 0.9861894\n",
      " 0.98589764 0.98560597 0.98531438]\n",
      "\n",
      "\n",
      "55 0.44952978056426335 1.2133326152245777e-14 0.02916624713280025 0.029166247132800603\n",
      "[1.         0.99973104 0.99946216 0.99919335 0.99892461 0.99865595\n",
      " 0.99838735 0.99811883 0.99785038 0.99758201 0.9973137  0.99704547\n",
      " 0.99677731 0.99650922 0.9962412  0.99597326 0.99570539 0.99543759\n",
      " 0.99516986 0.9949022  0.99463462 0.99436711 0.99409967 0.9938323\n",
      " 0.993565   0.99329778 0.99303063 0.99276355 0.99249654 0.9922296\n",
      " 0.99196273 0.99169594 0.99142922 0.99116257 0.99089599 0.99062948\n",
      " 0.99036305 0.99009669 0.98983039 0.98956418 0.98929803 0.98903195\n",
      " 0.98876594 0.98850001 0.98823415 0.98796836 0.98770264 0.98743699\n",
      " 0.98717142 0.98690591 0.98664048 0.98637512 0.98610982 0.98584461\n",
      " 0.98557946 0.98531438]\n",
      "\n",
      "\n",
      "60 0.5671957671957671 -0.010863107400007592 0.02916624713280025 0.028849411057741477\n",
      "[1.         0.99975346 0.99950697 0.99926055 0.99901418 0.99876788\n",
      " 0.99852164 0.99827546 0.99802934 0.99778328 0.99753728 0.99729135\n",
      " 0.99704547 0.99679965 0.9965539  0.9963082  0.99606257 0.99581699\n",
      " 0.99557148 0.99532603 0.99508063 0.9948353  0.99459003 0.99434482\n",
      " 0.99409967 0.99385458 0.99360955 0.99336458 0.99311967 0.99287482\n",
      " 0.99263003 0.9923853  0.99214064 0.99189603 0.99165148 0.991407\n",
      " 0.99116257 0.9909182  0.9906739  0.99042965 0.99018547 0.98994134\n",
      " 0.98969728 0.98945327 0.98920933 0.98896544 0.98872162 0.98847785\n",
      " 0.98823415 0.9879905  0.98774692 0.9875034  0.98725993 0.98701653\n",
      " 0.98677318 0.9865299  0.98628668 0.98604351 0.98580041 0.98555736\n",
      " 0.98531438]\n",
      "\n",
      "\n",
      "65 0.6257918552036199 -0.013149706558776163 0.02916624713280025 0.02878271954158318\n",
      "[1.         0.99977242 0.99954489 0.99931741 0.99908998 0.99886261\n",
      " 0.99863528 0.99840801 0.99818079 0.99795362 0.99772651 0.99749944\n",
      " 0.99727243 0.99704547 0.99681856 0.9965917  0.99636489 0.99613814\n",
      " 0.99591144 0.99568479 0.99545819 0.99523164 0.99500514 0.99477869\n",
      " 0.9945523  0.99432596 0.99409967 0.99387343 0.99364724 0.9934211\n",
      " 0.99319502 0.99296899 0.992743   0.99251707 0.99229119 0.99206537\n",
      " 0.99183959 0.99161387 0.99138819 0.99116257 0.990937   0.99071148\n",
      " 0.99048601 0.99026059 0.99003523 0.98980991 0.98958465 0.98935944\n",
      " 0.98913428 0.98890917 0.98868411 0.9884591  0.98823415 0.98800924\n",
      " 0.98778439 0.98755959 0.98733484 0.98711014 0.98688549 0.98666089\n",
      " 0.98643635 0.98621185 0.98598741 0.98576301 0.98553867 0.98531438]\n",
      "\n",
      "\n",
      "70 0.4614481409001957 -0.009303262172977743 0.02916624713280025 0.028894905889121948\n",
      "[1.         0.99978867 0.99957739 0.99936615 0.99915496 0.99894381\n",
      " 0.9987327  0.99852164 0.99831063 0.99809966 0.99788873 0.99767785\n",
      " 0.99746701 0.99725622 0.99704547 0.99683477 0.99662411 0.99641349\n",
      " 0.99620292 0.9959924  0.99578192 0.99557148 0.99536109 0.99515074\n",
      " 0.99494044 0.99473018 0.99451996 0.99430979 0.99409967 0.99388959\n",
      " 0.99367955 0.99346956 0.99325961 0.99304971 0.99283985 0.99263003\n",
      " 0.99242026 0.99221054 0.99200085 0.99179122 0.99158162 0.99137207\n",
      " 0.99116257 0.99095311 0.99074369 0.99053432 0.99032499 0.99011571\n",
      " 0.98990647 0.98969728 0.98948813 0.98927902 0.98906996 0.98886094\n",
      " 0.98865196 0.98844303 0.98823415 0.98802531 0.98781651 0.98760776\n",
      " 0.98739905 0.98719038 0.98698176 0.98677318 0.98656465 0.98635616\n",
      " 0.98614772 0.98593932 0.98573096 0.98552265 0.98531438]\n",
      "\n",
      "\n",
      "75 0.4629059829059829 -2.4647305673973773e-13 0.02916624713280025 0.02916624713279306\n",
      "[1.         0.99980276 0.99960556 0.99940839 0.99921127 0.99901418\n",
      " 0.99881714 0.99862013 0.99842316 0.99822623 0.99802934 0.99783249\n",
      " 0.99763568 0.9974389  0.99724217 0.99704547 0.99684881 0.99665219\n",
      " 0.99645561 0.99625907 0.99606257 0.9958661  0.99566968 0.99547329\n",
      " 0.99527694 0.99508063 0.99488436 0.99468813 0.99449194 0.99429578\n",
      " 0.99409967 0.99390359 0.99370755 0.99351155 0.99331559 0.99311967\n",
      " 0.99292379 0.99272794 0.99253213 0.99233637 0.99214064 0.99194495\n",
      " 0.99174929 0.99155368 0.99135811 0.99116257 0.99096707 0.99077161\n",
      " 0.99057619 0.99038081 0.99018547 0.98999016 0.98979489 0.98959967\n",
      " 0.98940448 0.98920933 0.98901421 0.98881914 0.9886241  0.98842911\n",
      " 0.98823415 0.98803923 0.98784435 0.9876495  0.9874547  0.98725993\n",
      " 0.9870652  0.98687052 0.98667586 0.98648125 0.98628668 0.98609214\n",
      " 0.98589764 0.98570318 0.98550876 0.98531438]\n",
      "\n",
      "\n",
      "80 0.3653614457831325 -0.008135135696951842 0.02916624713280025 0.028928975754604087\n",
      "[1.         0.99981509 0.99963021 0.99944536 0.99926055 0.99907577\n",
      " 0.99889103 0.99870632 0.99852164 0.998337   0.99815239 0.99796782\n",
      " 0.99778328 0.99759878 0.99741431 0.99722987 0.99704547 0.9968611\n",
      " 0.99667677 0.99649247 0.9963082  0.99612397 0.99593977 0.99575561\n",
      " 0.99557148 0.99538738 0.99520332 0.99501929 0.9948353  0.99465134\n",
      " 0.99446742 0.99428352 0.99409967 0.99391584 0.99373205 0.9935483\n",
      " 0.99336458 0.99318089 0.99299724 0.99281362 0.99263003 0.99244648\n",
      " 0.99226296 0.99207948 0.99189603 0.99171261 0.99152923 0.99134588\n",
      " 0.99116257 0.99097929 0.99079604 0.99061283 0.99042965 0.99024651\n",
      " 0.9900634  0.98988032 0.98969728 0.98951427 0.98933129 0.98914835\n",
      " 0.98896544 0.98878257 0.98859973 0.98841692 0.98823415 0.98805141\n",
      " 0.98786871 0.98768603 0.9875034  0.98732079 0.98713822 0.98695569\n",
      " 0.98677318 0.98659072 0.98640828 0.98622588 0.98604351 0.98586118\n",
      " 0.98567888 0.98549661 0.98531438]\n",
      "\n",
      "\n"
     ]
    },
    {
     "name": "stdout",
     "output_type": "stream",
     "text": [
      "85 0.47914438502673795 -1.948469435037116e-13 0.02916624713280025 0.029166247132794566\n",
      "[1.         0.99982596 0.99965195 0.99947798 0.99930403 0.99913011\n",
      " 0.99895623 0.99878237 0.99860854 0.99843475 0.99826098 0.99808725\n",
      " 0.99791354 0.99773987 0.99756622 0.99739261 0.99721902 0.99704547\n",
      " 0.99687195 0.99669845 0.99652499 0.99635155 0.99617815 0.99600478\n",
      " 0.99583144 0.99565812 0.99548484 0.99531159 0.99513837 0.99496518\n",
      " 0.99479201 0.99461888 0.99444578 0.99427271 0.99409967 0.99392666\n",
      " 0.99375368 0.99358072 0.9934078  0.99323491 0.99306205 0.99288922\n",
      " 0.99271642 0.99254365 0.99237091 0.9921982  0.99202552 0.99185287\n",
      " 0.99168025 0.99150766 0.9913351  0.99116257 0.99099007 0.9908176\n",
      " 0.99064516 0.99047275 0.99030037 0.99012802 0.9899557  0.98978341\n",
      " 0.98961115 0.98943892 0.98926672 0.98909455 0.98892241 0.9887503\n",
      " 0.98857822 0.98840617 0.98823415 0.98806216 0.9878902  0.98771827\n",
      " 0.98754637 0.9873745  0.98720266 0.98703085 0.98685906 0.98668731\n",
      " 0.98651559 0.9863439  0.98617224 0.98600061 0.98582901 0.98565743\n",
      " 0.98548589 0.98531438]\n",
      "\n",
      "\n",
      "90 0.597610513739546 -0.007227630759512434 0.02916624713280025 0.02895544426788368\n",
      "[1.         0.99983563 0.99967129 0.99950697 0.99934268 0.99917842\n",
      " 0.99901418 0.99884998 0.9986858  0.99852164 0.99835751 0.99819341\n",
      " 0.99802934 0.9978653  0.99770128 0.99753728 0.99737332 0.99720938\n",
      " 0.99704547 0.99688158 0.99671773 0.9965539  0.99639009 0.99622632\n",
      " 0.99606257 0.99589884 0.99573515 0.99557148 0.99540784 0.99524422\n",
      " 0.99508063 0.99491707 0.99475354 0.99459003 0.99442655 0.99426309\n",
      " 0.99409967 0.99393627 0.99377289 0.99360955 0.99344623 0.99328293\n",
      " 0.99311967 0.99295643 0.99279322 0.99263003 0.99246687 0.99230374\n",
      " 0.99214064 0.99197756 0.99181451 0.99165148 0.99148848 0.99132551\n",
      " 0.99116257 0.99099965 0.99083676 0.9906739  0.99051106 0.99034825\n",
      " 0.99018547 0.99002271 0.98985998 0.98969728 0.9895346  0.98937195\n",
      " 0.98920933 0.98904673 0.98888416 0.98872162 0.9885591  0.98839661\n",
      " 0.98823415 0.98807171 0.9879093  0.98774692 0.98758456 0.98742224\n",
      " 0.98725993 0.98709766 0.98693541 0.98677318 0.98661099 0.98644882\n",
      " 0.98628668 0.98612456 0.98596247 0.98580041 0.98563837 0.98547636\n",
      " 0.98531438]\n",
      "\n",
      "\n",
      "95 0.8715359828141783 -0.0714841585696569 0.02916624713280025 0.027081322497877355\n",
      "[1.         0.99984428 0.99968858 0.99953291 0.99937727 0.99922164\n",
      " 0.99906605 0.99891047 0.99875492 0.9985994  0.99844389 0.99828842\n",
      " 0.99813296 0.99797753 0.99782213 0.99766675 0.99751139 0.99735606\n",
      " 0.99720075 0.99704547 0.99689021 0.99673497 0.99657976 0.99642458\n",
      " 0.99626941 0.99611427 0.99595916 0.99580407 0.995649   0.99549396\n",
      " 0.99533894 0.99518395 0.99502898 0.99487403 0.99471911 0.99456421\n",
      " 0.99440934 0.99425449 0.99409967 0.99394487 0.99379009 0.99363534\n",
      " 0.99348061 0.9933259  0.99317122 0.99301657 0.99286194 0.99270733\n",
      " 0.99255274 0.99239818 0.99224365 0.99208914 0.99193465 0.99178018\n",
      " 0.99162574 0.99147133 0.99131694 0.99116257 0.99100823 0.99085391\n",
      " 0.99069961 0.99054534 0.99039109 0.99023687 0.99008267 0.98992849\n",
      " 0.98977434 0.98962022 0.98946611 0.98931203 0.98915798 0.98900395\n",
      " 0.98884994 0.98869596 0.988542   0.98838806 0.98823415 0.98808026\n",
      " 0.9879264  0.98777256 0.98761874 0.98746495 0.98731118 0.98715744\n",
      " 0.98700372 0.98685002 0.98669635 0.9865427  0.98638908 0.98623548\n",
      " 0.9860819  0.98592835 0.98577482 0.98562132 0.98546784 0.98531438]\n",
      "\n",
      "\n"
     ]
    }
   ],
   "source": [
    "# this is used to find out a suitable n(number of steps of the tree)\n",
    "T = 180/365\n",
    "S0 = 1.08715\n",
    "r = 0.03\n",
    "q = 0\n",
    "\n",
    "\n",
    "for N in range(5,100,5):\n",
    "    dt = T/N\n",
    "    interest = np.exp((r-q)*dt)\n",
    "    discount = np.exp(-r*dt)\n",
    "    \n",
    "    count= 0 # for calculating no. of reset\n",
    "    \n",
    "    stock_tree = np.zeros([N+1,N+1])\n",
    "    AD_tree = np.zeros([N+1,N+1])\n",
    "    prob_tree = np.zeros([N,N])\n",
    "\n",
    "    stock_tree[0,0] = S0\n",
    "    AD_tree[0,0] = 1\n",
    "\n",
    "\n",
    "    for n in range(1,N+1):\n",
    "        if n%2==0:\n",
    "            center = int(n/2)\n",
    "            stock_tree[n,center] = S0\n",
    "\n",
    "            for i in range(center+1,n+1):\n",
    "                Si = stock_tree[n,i-1]\n",
    "                si = stock_tree[n-1,i-1]\n",
    "                Fi = interest * si\n",
    "                lambdai = AD_tree[n-1,i-1]\n",
    "            \n",
    "                SA = (Si*(interest*C(si,n)-summation(n,i,si)) - lambdai*si*(Fi-Si))/((interest*C(si,n) - summation(n,i,si))-lambdai*(Fi-Si))\n",
    "                stock_tree[n,i] = no_arbitrage(SA,n,i)\n",
    "        \n",
    "            for i in reversed(range(center)):\n",
    "                Si_1 = stock_tree[n,i+1]\n",
    "                si = stock_tree[n-1,i]\n",
    "                Fi = interest * si\n",
    "                lambdai = AD_tree[n-1,i]\n",
    "\n",
    "                SA = (Si_1*(interest*P(si,n)-summation(n,i,si))+lambdai*si*(Fi-Si_1))/(interest*P(si,n)-summation(n,i,si)+lambdai*(Fi-Si_1))\n",
    "                stock_tree[n,i] = no_arbitrage(SA,n,i)\n",
    "   \n",
    "        else:\n",
    "            center = int((n-1)/2)\n",
    "            si = stock_tree[n-1,center]\n",
    "            Fi = interest*si\n",
    "            lambdai = AD_tree[n-1,center]\n",
    "            SA = si*(interest*C(si,n) + lambdai*si-summation(n,center+1,si))/(lambdai*Fi-interest*C(si,n)+summation(n,center+1,si))\n",
    "            stock_tree[n,center+1] = no_arbitrage(SA,n,center+1)\n",
    "            SB = si**2/stock_tree[n,center+1]\n",
    "            stock_tree[n,center] = SB\n",
    "        \n",
    "            for i in range(center+2,n+1):\n",
    "                Si = stock_tree[n,i-1]\n",
    "                si = stock_tree[n-1,i-1]\n",
    "                Fi = interest * si\n",
    "                lambdai = AD_tree[n-1,i-1]\n",
    "    \n",
    "                SA = (Si*(interest*C(si,n)-summation(n,i,si)) - lambdai*si*(Fi-Si))/((interest*C(si,n) - summation(n,i,si))-lambdai*(Fi-Si))\n",
    "                stock_tree[n,i] = no_arbitrage(SA,n,i)\n",
    "       \n",
    "            for i in reversed(range(center)):\n",
    "                Si_1 = stock_tree[n,i+1]\n",
    "                si = stock_tree[n-1,i]\n",
    "                Fi = interest * si\n",
    "                lambdai = AD_tree[n-1,i]\n",
    "\n",
    "                SA = (Si_1*(interest*P(si,n)-summation(n,i,si))+lambdai*si*(Fi-Si_1))/((interest*P(si,n)-summation(n,i,si))+lambdai*(Fi-Si_1))      \n",
    "                stock_tree[n,i] = no_arbitrage(SA,n,i)\n",
    "\n",
    "        for i in range(n):\n",
    "            prob_tree[n-1,i] = compute_prob(n-1,i)\n",
    "            AD_tree[n,i] = compute_AD(n,i)\n",
    "        AD_tree[n,n] = compute_AD(n,n)\n",
    "    \n",
    "    K = S0\n",
    "    total_nodes = (2+N+1)*N/2\n",
    "    reset = count/total_nodes\n",
    "    implied = implied_tree_pricing(K,\"put\")\n",
    "    BSC = P(K,N)\n",
    "    difference = (implied - BSC)/BSC\n",
    "    print(N, reset, difference, BSC, implied)\n",
    "    print(AD_tree.sum(axis=1))\n",
    "    print(\"\\n\")"
   ]
  },
  {
   "cell_type": "markdown",
   "id": "9599e17d",
   "metadata": {},
   "source": [
    "improved_stocktree = np.zeros([11,21])\n",
    "improved_ADtree = np.zeros([11,21])\n",
    "for n in range(11):\n",
    "    for i in range(n+1):\n",
    "        improved_stocktree[n,10-n+i*2] = stock_tree[n,i]\n",
    "        improved_ADtree[n,10-n+i*2] = AD_tree[n,i]\n",
    "\n",
    "improved_probtree = np.zeros([10,19])\n",
    "for n in range(10):\n",
    "    for i in range(n+1):\n",
    "        improved_probtree[n,9-n+i*2] = prob_tree[n,i]\n",
    "\n",
    "    "
   ]
  },
  {
   "cell_type": "markdown",
   "id": "8f8b7ded",
   "metadata": {},
   "source": [
    "import pandas as pd\n",
    "\n",
    "stock = pd.DataFrame (improved_stocktree)\n",
    "AD_price = pd.DataFrame (improved_ADtree)\n",
    "probability = pd.DataFrame (improved_probtree)\n",
    "\n",
    "### save to xlsx file\n",
    "\n",
    "filepath1 = 'BS_stock_tree.xlsx'\n",
    "filepath2 = 'BS_AD_tree.xlsx'\n",
    "filepath3 = 'BS_prob_tree.xlsx'\n",
    "\n",
    "stock.to_excel(filepath1, index=False)\n",
    "AD_price.to_excel(filepath2, index=False)\n",
    "probability.to_excel(filepath3, index=False)"
   ]
  },
  {
   "cell_type": "code",
   "execution_count": 1025,
   "id": "956fb75e",
   "metadata": {},
   "outputs": [],
   "source": [
    "# constructing the tree with chosen n\n",
    "T = 180/365\n",
    "S0 = 1.08715\n",
    "r = 0.03     #(r_d)\n",
    "q = 0     #(r_f)\n",
    "\n",
    "N=100\n",
    "dt = T/N\n",
    "interest = np.exp((r-q)*dt)\n",
    "discount = np.exp(-r*dt)\n",
    "\n",
    "count= 0 # for calculating no. of reset\n",
    "\n",
    "stock_tree = np.zeros([N+1,N+1])\n",
    "AD_tree = np.zeros([N+1,N+1])\n",
    "prob_tree = np.zeros([N,N])\n",
    "\n",
    "stock_tree[0,0] = S0\n",
    "AD_tree[0,0] = 1\n",
    "\n",
    "\n",
    "for n in range(1,N+1):\n",
    "    if n%2==0:\n",
    "        center = int(n/2)\n",
    "        stock_tree[n,center] = S0\n",
    "\n",
    "        for i in range(center+1,n+1):\n",
    "            Si = stock_tree[n,i-1]\n",
    "            si = stock_tree[n-1,i-1]\n",
    "            Fi = interest * si\n",
    "            lambdai = AD_tree[n-1,i-1]\n",
    "\n",
    "            SA = (Si*(interest*C(si,n)-summation(n,i,si)) - lambdai*si*(Fi-Si))/((interest*C(si,n) - summation(n,i,si))-lambdai*(Fi-Si))\n",
    "            stock_tree[n,i] = no_arbitrage(SA,n,i)\n",
    "\n",
    "        for i in reversed(range(center)):\n",
    "            Si_1 = stock_tree[n,i+1]\n",
    "            si = stock_tree[n-1,i]\n",
    "            Fi = interest * si\n",
    "            lambdai = AD_tree[n-1,i]\n",
    "\n",
    "            SA = (Si_1*(interest*P(si,n)-summation(n,i,si))+lambdai*si*(Fi-Si_1))/(interest*P(si,n)-summation(n,i,si)+lambdai*(Fi-Si_1))\n",
    "            stock_tree[n,i] = no_arbitrage(SA,n,i)\n",
    "\n",
    "    else:\n",
    "        center = int((n-1)/2)\n",
    "        si = stock_tree[n-1,center]\n",
    "        Fi = interest*si\n",
    "        lambdai = AD_tree[n-1,center]\n",
    "        SA = si*(interest*C(si,n) + lambdai*si-summation(n,center+1,si))/(lambdai*Fi-interest*C(si,n)+summation(n,center+1,si))\n",
    "        stock_tree[n,center+1] = no_arbitrage(SA,n,center+1)\n",
    "        SB = si**2/stock_tree[n,center+1]\n",
    "        stock_tree[n,center] = SB\n",
    "\n",
    "        for i in range(center+2,n+1):\n",
    "            Si = stock_tree[n,i-1]\n",
    "            si = stock_tree[n-1,i-1]\n",
    "            Fi = interest * si\n",
    "            lambdai = AD_tree[n-1,i-1]\n",
    "\n",
    "            SA = (Si*(interest*C(si,n)-summation(n,i,si)) - lambdai*si*(Fi-Si))/((interest*C(si,n) - summation(n,i,si))-lambdai*(Fi-Si))\n",
    "            stock_tree[n,i] = no_arbitrage(SA,n,i)\n",
    "\n",
    "        for i in reversed(range(center)):\n",
    "            Si_1 = stock_tree[n,i+1]\n",
    "            si = stock_tree[n-1,i]\n",
    "            Fi = interest * si\n",
    "            lambdai = AD_tree[n-1,i]\n",
    "\n",
    "            SA = (Si_1*(interest*P(si,n)-summation(n,i,si))+lambdai*si*(Fi-Si_1))/((interest*P(si,n)-summation(n,i,si))+lambdai*(Fi-Si_1))      \n",
    "            stock_tree[n,i] = no_arbitrage(SA,n,i)\n",
    "\n",
    "    for i in range(n):\n",
    "        prob_tree[n-1,i] = compute_prob(n-1,i)\n",
    "        AD_tree[n,i] = compute_AD(n,i)\n",
    "    AD_tree[n,n] = compute_AD(n,n)"
   ]
  },
  {
   "cell_type": "code",
   "execution_count": 1027,
   "id": "a2bc76f4",
   "metadata": {},
   "outputs": [
    {
     "data": {
      "text/plain": [
       "array([[1.08715   , 0.        , 0.        , ..., 0.        , 0.        ,\n",
       "        0.        ],\n",
       "       [1.07838081, 1.0959905 , 0.        , ..., 0.        , 0.        ,\n",
       "        0.        ],\n",
       "       [1.06967138, 1.08715   , 1.10308686, ..., 0.        , 0.        ,\n",
       "        0.        ],\n",
       "       ...,\n",
       "       [0.22985953, 0.23663728, 0.24361488, ..., 2.37000118, 0.        ,\n",
       "        0.        ],\n",
       "       [0.2270096 , 0.23370332, 0.24059441, ..., 2.36422971, 2.40146192,\n",
       "        0.        ],\n",
       "       [0.22412899, 0.23073777, 0.23754142, ..., 2.35290654, 2.38996043,\n",
       "        2.42759784]])"
      ]
     },
     "execution_count": 1027,
     "metadata": {},
     "output_type": "execute_result"
    }
   ],
   "source": [
    "stock_tree"
   ]
  },
  {
   "cell_type": "code",
   "execution_count": 1028,
   "id": "29881ca8",
   "metadata": {},
   "outputs": [
    {
     "data": {
      "text/plain": [
       "array([[0.50710948, 0.        , 0.        , ..., 0.        , 0.        ,\n",
       "        0.        ],\n",
       "       [0.50741899, 0.56489546, 0.        , ..., 0.        , 0.        ,\n",
       "        0.        ],\n",
       "       [0.450879  , 0.51008665, 0.55537911, ..., 0.        , 0.        ,\n",
       "        0.        ],\n",
       "       ...,\n",
       "       [0.46106515, 0.46106515, 0.46106515, ..., 0.3154234 , 0.        ,\n",
       "        0.        ],\n",
       "       [0.43084187, 0.43084187, 0.43084187, ..., 0.16443087, 0.16443087,\n",
       "        0.        ],\n",
       "       [0.44095839, 0.44095839, 0.44095839, ..., 0.31502696, 0.31502696,\n",
       "        0.31502696]])"
      ]
     },
     "execution_count": 1028,
     "metadata": {},
     "output_type": "execute_result"
    }
   ],
   "source": [
    "prob_tree"
   ]
  },
  {
   "cell_type": "code",
   "execution_count": 1029,
   "id": "fd61e4f0",
   "metadata": {},
   "outputs": [
    {
     "data": {
      "text/plain": [
       "array([[1.00000000e+00, 0.00000000e+00, 0.00000000e+00, ...,\n",
       "        0.00000000e+00, 0.00000000e+00, 0.00000000e+00],\n",
       "       [4.92817601e-01, 5.07034464e-01, 0.00000000e+00, ...,\n",
       "        0.00000000e+00, 0.00000000e+00, 0.00000000e+00],\n",
       "       [2.42716678e-01, 4.70608381e-01, 2.86379094e-01, ...,\n",
       "        0.00000000e+00, 0.00000000e+00, 0.00000000e+00],\n",
       "       ...,\n",
       "       [2.05779290e-48, 2.64627313e-45, 6.41968888e-43, ...,\n",
       "        7.58379638e-38, 0.00000000e+00, 0.00000000e+00],\n",
       "       [1.17103629e-48, 1.50681150e-45, 3.66467714e-43, ...,\n",
       "        4.52284472e-36, 1.24682573e-38, 0.00000000e+00],\n",
       "       [6.54561168e-49, 8.42762015e-46, 2.05504736e-43, ...,\n",
       "        2.14427972e-34, 1.43314640e-36, 3.92725616e-39]])"
      ]
     },
     "execution_count": 1029,
     "metadata": {},
     "output_type": "execute_result"
    }
   ],
   "source": [
    "AD_tree"
   ]
  },
  {
   "cell_type": "code",
   "execution_count": 1030,
   "id": "526e1c27",
   "metadata": {},
   "outputs": [],
   "source": [
    "K = S0\n",
    "rebate = 0 #0.001"
   ]
  },
  {
   "cell_type": "code",
   "execution_count": 1039,
   "id": "ecbb937c",
   "metadata": {
    "scrolled": true
   },
   "outputs": [
    {
     "data": {
      "text/plain": [
       "<matplotlib.legend.Legend at 0x7fb48f821cd0>"
      ]
     },
     "execution_count": 1039,
     "metadata": {},
     "output_type": "execute_result"
    },
    {
     "data": {
      "image/png": "[encoded data removed]",
      "text/plain": [
       "<Figure size 640x480 with 1 Axes>"
      ]
     },
     "metadata": {},
     "output_type": "display_data"
    }
   ],
   "source": [
    "percentage =np.linspace(0.05,0.1,5)\n",
    "barrier = [S0*(1-i) for i in percentage]\n",
    "BS_doput = [BS_barrier_pricer(S0,K,T,r,q,i,implied_vol(S0,N,K),rebate,\"downout_put\") for i in barrier]\n",
    "tree_doput = [tree_barrier_pricer(stock_tree,K,i,N,rebate,\"downout_put\") for i in barrier]\n",
    "\n",
    "plt.plot(barrier,BS_doput,label=\"BS\")\n",
    "plt.plot(barrier,tree_doput,label=\"implied_tree\")\n",
    "plt.legend()"
   ]
  },
  {
   "cell_type": "code",
   "execution_count": 1040,
   "id": "b895acb5",
   "metadata": {},
   "outputs": [
    {
     "data": {
      "text/plain": [
       "([1.0327925, 1.019203125, 1.0056137500000002, 0.9920243750000001, 0.978435],\n",
       " [0.0009002349582225464,\n",
       "  0.0014952359529876666,\n",
       "  0.0021077422144336086,\n",
       "  0.003746870859258249,\n",
       "  0.004475487115194245])"
      ]
     },
     "execution_count": 1040,
     "metadata": {},
     "output_type": "execute_result"
    }
   ],
   "source": [
    "barrier,tree_doput"
   ]
  },
  {
   "cell_type": "code",
   "execution_count": 1041,
   "id": "54b225c1",
   "metadata": {},
   "outputs": [
    {
     "data": {
      "text/plain": [
       "<matplotlib.legend.Legend at 0x7fb48fa9cac0>"
      ]
     },
     "execution_count": 1041,
     "metadata": {},
     "output_type": "execute_result"
    },
    {
     "data": {
      "image/png": "[encoded data removed]",
      "text/plain": [
       "<Figure size 640x480 with 1 Axes>"
      ]
     },
     "metadata": {},
     "output_type": "display_data"
    }
   ],
   "source": [
    "barrier = [S0*(1+i) for i in percentage]\n",
    "BS_upoutcall = [BS_barrier_pricer(S0,K,T,r,q,i,implied_vol(S0,N,K),rebate,\"upout_call\") for i in barrier]\n",
    "tree_uocall = [tree_barrier_pricer(stock_tree,K,i,N,rebate,\"upout_call\") for i in barrier]\n",
    "\n",
    "plt.plot(barrier,BS_upoutcall,label=\"BS\")\n",
    "plt.plot(barrier,tree_uocall,label=\"implied_tree\")\n",
    "plt.legend()"
   ]
  },
  {
   "cell_type": "code",
   "execution_count": 1042,
   "id": "f5489baf",
   "metadata": {},
   "outputs": [
    {
     "data": {
      "text/plain": [
       "([1.1415075000000001,\n",
       "  1.1550968750000001,\n",
       "  1.16868625,\n",
       "  1.182275625,\n",
       "  1.1958650000000002],\n",
       " [0.0012673956022404916,\n",
       "  0.0061395299310512165,\n",
       "  0.010294586620866231,\n",
       "  0.01500916603017141,\n",
       "  0.01966078975839891])"
      ]
     },
     "execution_count": 1042,
     "metadata": {},
     "output_type": "execute_result"
    }
   ],
   "source": [
    "barrier,tree_uocall"
   ]
  },
  {
   "cell_type": "markdown",
   "id": "509bb346",
   "metadata": {},
   "source": [
    "below are some tests to see wether the tree price matches with market price"
   ]
  },
  {
   "cell_type": "code",
   "execution_count": 692,
   "id": "1cb94ccc",
   "metadata": {},
   "outputs": [],
   "source": [
    "def get_strike_from_delta(delta,vol,T,S):\n",
    "    d1 = norm.ppf(np.exp(q*T)*delta)\n",
    "    K = S/np.exp(vol*np.sqrt(T)*d1-(r+vol**2/2)*T)\n",
    "    return K"
   ]
  },
  {
   "cell_type": "code",
   "execution_count": 884,
   "id": "b8a3f2cd",
   "metadata": {},
   "outputs": [],
   "source": [
    "def BS_vanilla(K,T,vol,S0,r,q,optionType): #BS formula\n",
    "    d1 = (np.log(S0/K) + (r-q+vol**2/2)*T)/(vol*np.sqrt(T))\n",
    "    d2 = d1- vol*np.sqrt(T)\n",
    "    if optionType == \"call\":\n",
    "        return np.exp(-q*T)*S0*norm.cdf(d1)-np.exp(-r*T)*K*norm.cdf(d2)\n",
    "    elif optionType == \"put\":\n",
    "        return -np.exp(-q*T)*S0*norm.cdf(-d1)+np.exp(-r*T)*K*norm.cdf(-d2)"
   ]
  },
  {
   "cell_type": "markdown",
   "id": "1284436a",
   "metadata": {},
   "source": [
    "### delta 75"
   ]
  },
  {
   "cell_type": "code",
   "execution_count": 1046,
   "id": "7ab14161",
   "metadata": {},
   "outputs": [
    {
     "data": {
      "text/plain": [
       "1.0389789814117425"
      ]
     },
     "execution_count": 1046,
     "metadata": {},
     "output_type": "execute_result"
    }
   ],
   "source": [
    "delta = 0.75\n",
    "vol = 0.1362\n",
    "T = 180/360\n",
    "\n",
    "strike = get_strike_from_delta(delta,vol,T,S0)\n",
    "strike"
   ]
  },
  {
   "cell_type": "code",
   "execution_count": 1047,
   "id": "e524845c",
   "metadata": {},
   "outputs": [
    {
     "data": {
      "text/plain": [
       "0.08057807276716882"
      ]
     },
     "execution_count": 1047,
     "metadata": {},
     "output_type": "execute_result"
    }
   ],
   "source": [
    "tree_barrier_pricer(stock_tree,strike,5,N,rebate,\"upout_call\")"
   ]
  },
  {
   "cell_type": "code",
   "execution_count": 1050,
   "id": "e3c4465f",
   "metadata": {},
   "outputs": [
    {
     "data": {
      "text/plain": [
       "0.08004248644283662"
      ]
     },
     "execution_count": 1050,
     "metadata": {},
     "output_type": "execute_result"
    }
   ],
   "source": [
    "BS_vanilla(strike,T,vol,S0,r,q,\"call\")"
   ]
  },
  {
   "cell_type": "code",
   "execution_count": 1049,
   "id": "b6c7e682",
   "metadata": {},
   "outputs": [
    {
     "data": {
      "text/plain": [
       "0.08004248644283662"
      ]
     },
     "execution_count": 1049,
     "metadata": {},
     "output_type": "execute_result"
    }
   ],
   "source": [
    "BS_barrier_pricer(S0,strike,T,r,q,5,vol,rebate,\"upout_call\")"
   ]
  },
  {
   "cell_type": "markdown",
   "id": "2905602f",
   "metadata": {},
   "source": [
    "### delta 25"
   ]
  },
  {
   "cell_type": "code",
   "execution_count": 1051,
   "id": "5d179bba",
   "metadata": {},
   "outputs": [
    {
     "data": {
      "text/plain": [
       "1.1641949704064882"
      ]
     },
     "execution_count": 1051,
     "metadata": {},
     "output_type": "execute_result"
    }
   ],
   "source": [
    "delta = 0.25\n",
    "vol = 0.1062\n",
    "T = 180/360\n",
    "strike = get_strike_from_delta(delta,vol,T,S0)\n",
    "strike"
   ]
  },
  {
   "cell_type": "code",
   "execution_count": 1052,
   "id": "e852c1c1",
   "metadata": {},
   "outputs": [
    {
     "data": {
      "text/plain": [
       "0.010682637296188378"
      ]
     },
     "execution_count": 1052,
     "metadata": {},
     "output_type": "execute_result"
    }
   ],
   "source": [
    "tree_barrier_pricer(stock_tree,strike,5,N,rebate,\"upout_call\")"
   ]
  },
  {
   "cell_type": "code",
   "execution_count": 1053,
   "id": "3c5d830c",
   "metadata": {},
   "outputs": [
    {
     "data": {
      "text/plain": [
       "0.011733594502241762"
      ]
     },
     "execution_count": 1053,
     "metadata": {},
     "output_type": "execute_result"
    }
   ],
   "source": [
    "BS_vanilla(strike,T,vol,S0,r,q,\"call\")"
   ]
  },
  {
   "cell_type": "code",
   "execution_count": 1054,
   "id": "9a7012b0",
   "metadata": {},
   "outputs": [
    {
     "data": {
      "text/plain": [
       "0.011733594502241762"
      ]
     },
     "execution_count": 1054,
     "metadata": {},
     "output_type": "execute_result"
    }
   ],
   "source": [
    "BS_barrier_pricer(S0,strike,T,r,q,5,vol,rebate,\"upout_call\")"
   ]
  },
  {
   "cell_type": "markdown",
   "id": "3771ac3d",
   "metadata": {},
   "source": [
    "### delta 50"
   ]
  },
  {
   "cell_type": "code",
   "execution_count": 1055,
   "id": "a53a502d",
   "metadata": {},
   "outputs": [
    {
     "data": {
      "text/plain": [
       "1.0879242282121104"
      ]
     },
     "execution_count": 1055,
     "metadata": {},
     "output_type": "execute_result"
    }
   ],
   "source": [
    "delta = 0.50\n",
    "vol = 0.115\n",
    "T = 7/360\n",
    "strike = get_strike_from_delta(delta,vol,T,S0)\n",
    "strike"
   ]
  },
  {
   "cell_type": "code",
   "execution_count": 1056,
   "id": "1bf78118",
   "metadata": {},
   "outputs": [
    {
     "data": {
      "text/plain": [
       "0.04447500849300068"
      ]
     },
     "execution_count": 1056,
     "metadata": {},
     "output_type": "execute_result"
    }
   ],
   "source": [
    "tree_barrier_pricer(stock_tree,strike,5,N,rebate,\"upout_call\")"
   ]
  },
  {
   "cell_type": "code",
   "execution_count": 1057,
   "id": "36369238",
   "metadata": {},
   "outputs": [
    {
     "data": {
      "text/plain": [
       "0.00688566894773579"
      ]
     },
     "execution_count": 1057,
     "metadata": {},
     "output_type": "execute_result"
    }
   ],
   "source": [
    "BS_vanilla(strike,T,vol,S0,r,q,\"call\")"
   ]
  },
  {
   "cell_type": "code",
   "execution_count": 1058,
   "id": "23852e3b",
   "metadata": {},
   "outputs": [
    {
     "data": {
      "text/plain": [
       "0.00688566894773579"
      ]
     },
     "execution_count": 1058,
     "metadata": {},
     "output_type": "execute_result"
    }
   ],
   "source": [
    "BS_barrier_pricer(S0,strike,T,r,q,5,vol,rebate,\"upout_call\")"
   ]
  },
  {
   "cell_type": "code",
   "execution_count": 931,
   "id": "30e1e7d2",
   "metadata": {},
   "outputs": [
    {
     "data": {
      "text/plain": [
       "74.2434437073543"
      ]
     },
     "execution_count": 931,
     "metadata": {},
     "output_type": "execute_result"
    }
   ],
   "source": [
    "d1 = (np.log(S0/S0/0.95) + N*dt*(r-q+0.1**2/2))/(0.1*np.sqrt(N*dt))\n",
    "norm.cdf(d1)*100"
   ]
  },
  {
   "cell_type": "code",
   "execution_count": null,
   "id": "337f0310",
   "metadata": {},
   "outputs": [],
   "source": []
  }
 ],
 "metadata": {
  "kernelspec": {
   "display_name": "Python 3 (ipykernel)",
   "language": "python",
   "name": "python3"
  },
  "language_info": {
   "codemirror_mode": {
    "name": "ipython",
    "version": 3
   },
   "file_extension": ".py",
   "mimetype": "text/x-python",
   "name": "python",
   "nbconvert_exporter": "python",
   "pygments_lexer": "ipython3",
   "version": "3.9.13"
  }
 },
 "nbformat": 4,
 "nbformat_minor": 5
}
